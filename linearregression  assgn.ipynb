{
 "cells": [
  {
   "cell_type": "code",
   "execution_count": 12,
   "metadata": {},
   "outputs": [],
   "source": [
    "import pandas as pd\n",
    "import numpy as np"
   ]
  },
  {
   "cell_type": "code",
   "execution_count": 13,
   "metadata": {},
   "outputs": [],
   "source": [
    "df=pd.read_csv(r'C:\\Users\\Harsha reddy\\Downloads\\Fish.csv')"
   ]
  },
  {
   "cell_type": "code",
   "execution_count": 14,
   "metadata": {},
   "outputs": [
    {
     "data": {
      "text/html": [
       "<div>\n",
       "<style scoped>\n",
       "    .dataframe tbody tr th:only-of-type {\n",
       "        vertical-align: middle;\n",
       "    }\n",
       "\n",
       "    .dataframe tbody tr th {\n",
       "        vertical-align: top;\n",
       "    }\n",
       "\n",
       "    .dataframe thead th {\n",
       "        text-align: right;\n",
       "    }\n",
       "</style>\n",
       "<table border=\"1\" class=\"dataframe\">\n",
       "  <thead>\n",
       "    <tr style=\"text-align: right;\">\n",
       "      <th></th>\n",
       "      <th>Species</th>\n",
       "      <th>Weight</th>\n",
       "      <th>Length1</th>\n",
       "      <th>Length2</th>\n",
       "      <th>Length3</th>\n",
       "      <th>Height</th>\n",
       "      <th>Width</th>\n",
       "    </tr>\n",
       "  </thead>\n",
       "  <tbody>\n",
       "    <tr>\n",
       "      <th>0</th>\n",
       "      <td>Bream</td>\n",
       "      <td>242.0</td>\n",
       "      <td>23.2</td>\n",
       "      <td>25.4</td>\n",
       "      <td>30.0</td>\n",
       "      <td>11.5200</td>\n",
       "      <td>4.0200</td>\n",
       "    </tr>\n",
       "    <tr>\n",
       "      <th>1</th>\n",
       "      <td>Bream</td>\n",
       "      <td>290.0</td>\n",
       "      <td>24.0</td>\n",
       "      <td>26.3</td>\n",
       "      <td>31.2</td>\n",
       "      <td>12.4800</td>\n",
       "      <td>4.3056</td>\n",
       "    </tr>\n",
       "    <tr>\n",
       "      <th>2</th>\n",
       "      <td>Bream</td>\n",
       "      <td>340.0</td>\n",
       "      <td>23.9</td>\n",
       "      <td>26.5</td>\n",
       "      <td>31.1</td>\n",
       "      <td>12.3778</td>\n",
       "      <td>4.6961</td>\n",
       "    </tr>\n",
       "    <tr>\n",
       "      <th>3</th>\n",
       "      <td>Bream</td>\n",
       "      <td>363.0</td>\n",
       "      <td>26.3</td>\n",
       "      <td>29.0</td>\n",
       "      <td>33.5</td>\n",
       "      <td>12.7300</td>\n",
       "      <td>4.4555</td>\n",
       "    </tr>\n",
       "    <tr>\n",
       "      <th>4</th>\n",
       "      <td>Bream</td>\n",
       "      <td>430.0</td>\n",
       "      <td>26.5</td>\n",
       "      <td>29.0</td>\n",
       "      <td>34.0</td>\n",
       "      <td>12.4440</td>\n",
       "      <td>5.1340</td>\n",
       "    </tr>\n",
       "  </tbody>\n",
       "</table>\n",
       "</div>"
      ],
      "text/plain": [
       "  Species  Weight  Length1  Length2  Length3   Height   Width\n",
       "0   Bream   242.0     23.2     25.4     30.0  11.5200  4.0200\n",
       "1   Bream   290.0     24.0     26.3     31.2  12.4800  4.3056\n",
       "2   Bream   340.0     23.9     26.5     31.1  12.3778  4.6961\n",
       "3   Bream   363.0     26.3     29.0     33.5  12.7300  4.4555\n",
       "4   Bream   430.0     26.5     29.0     34.0  12.4440  5.1340"
      ]
     },
     "execution_count": 14,
     "metadata": {},
     "output_type": "execute_result"
    }
   ],
   "source": [
    "df.head(5)"
   ]
  },
  {
   "cell_type": "code",
   "execution_count": 15,
   "metadata": {},
   "outputs": [
    {
     "data": {
      "text/plain": [
       "Species    0\n",
       "Weight     0\n",
       "Length1    0\n",
       "Length2    0\n",
       "Length3    0\n",
       "Height     0\n",
       "Width      0\n",
       "dtype: int64"
      ]
     },
     "execution_count": 15,
     "metadata": {},
     "output_type": "execute_result"
    }
   ],
   "source": [
    "df.isnull().sum()"
   ]
  },
  {
   "cell_type": "code",
   "execution_count": 16,
   "metadata": {},
   "outputs": [],
   "source": [
    "x=df.iloc[:,0:6].values\n",
    "y=df.iloc[:,6].values"
   ]
  },
  {
   "cell_type": "code",
   "execution_count": 17,
   "metadata": {},
   "outputs": [
    {
     "data": {
      "text/plain": [
       "array([['Bream', 242.0, 23.2, 25.4, 30.0, 11.52],\n",
       "       ['Bream', 290.0, 24.0, 26.3, 31.2, 12.48],\n",
       "       ['Bream', 340.0, 23.9, 26.5, 31.1, 12.3778],\n",
       "       ['Bream', 363.0, 26.3, 29.0, 33.5, 12.73],\n",
       "       ['Bream', 430.0, 26.5, 29.0, 34.0, 12.444],\n",
       "       ['Bream', 450.0, 26.8, 29.7, 34.7, 13.6024],\n",
       "       ['Bream', 500.0, 26.8, 29.7, 34.5, 14.1795],\n",
       "       ['Bream', 390.0, 27.6, 30.0, 35.0, 12.67],\n",
       "       ['Bream', 450.0, 27.6, 30.0, 35.1, 14.0049],\n",
       "       ['Bream', 500.0, 28.5, 30.7, 36.2, 14.2266],\n",
       "       ['Bream', 475.0, 28.4, 31.0, 36.2, 14.2628],\n",
       "       ['Bream', 500.0, 28.7, 31.0, 36.2, 14.3714],\n",
       "       ['Bream', 500.0, 29.1, 31.5, 36.4, 13.7592],\n",
       "       ['Bream', 340.0, 29.5, 32.0, 37.3, 13.9129],\n",
       "       ['Bream', 600.0, 29.4, 32.0, 37.2, 14.9544],\n",
       "       ['Bream', 600.0, 29.4, 32.0, 37.2, 15.437999999999999],\n",
       "       ['Bream', 700.0, 30.4, 33.0, 38.3, 14.8604],\n",
       "       ['Bream', 700.0, 30.4, 33.0, 38.5, 14.937999999999999],\n",
       "       ['Bream', 610.0, 30.9, 33.5, 38.6, 15.633],\n",
       "       ['Bream', 650.0, 31.0, 33.5, 38.7, 14.4738],\n",
       "       ['Bream', 575.0, 31.3, 34.0, 39.5, 15.1285],\n",
       "       ['Bream', 685.0, 31.4, 34.0, 39.2, 15.9936],\n",
       "       ['Bream', 620.0, 31.5, 34.5, 39.7, 15.5227],\n",
       "       ['Bream', 680.0, 31.8, 35.0, 40.6, 15.4686],\n",
       "       ['Bream', 700.0, 31.9, 35.0, 40.5, 16.2405],\n",
       "       ['Bream', 725.0, 31.8, 35.0, 40.9, 16.36],\n",
       "       ['Bream', 720.0, 32.0, 35.0, 40.6, 16.3618],\n",
       "       ['Bream', 714.0, 32.7, 36.0, 41.5, 16.517],\n",
       "       ['Bream', 850.0, 32.8, 36.0, 41.6, 16.8896],\n",
       "       ['Bream', 1000.0, 33.5, 37.0, 42.6, 18.957],\n",
       "       ['Bream', 920.0, 35.0, 38.5, 44.1, 18.0369],\n",
       "       ['Bream', 955.0, 35.0, 38.5, 44.0, 18.084],\n",
       "       ['Bream', 925.0, 36.2, 39.5, 45.3, 18.7542],\n",
       "       ['Bream', 975.0, 37.4, 41.0, 45.9, 18.6354],\n",
       "       ['Bream', 950.0, 38.0, 41.0, 46.5, 17.6235],\n",
       "       ['Roach', 40.0, 12.9, 14.1, 16.2, 4.1472],\n",
       "       ['Roach', 69.0, 16.5, 18.2, 20.3, 5.2983],\n",
       "       ['Roach', 78.0, 17.5, 18.8, 21.2, 5.5756],\n",
       "       ['Roach', 87.0, 18.2, 19.8, 22.2, 5.6166],\n",
       "       ['Roach', 120.0, 18.6, 20.0, 22.2, 6.216],\n",
       "       ['Roach', 0.0, 19.0, 20.5, 22.8, 6.4752],\n",
       "       ['Roach', 110.0, 19.1, 20.8, 23.1, 6.1677],\n",
       "       ['Roach', 120.0, 19.4, 21.0, 23.7, 6.1146],\n",
       "       ['Roach', 150.0, 20.4, 22.0, 24.7, 5.8045],\n",
       "       ['Roach', 145.0, 20.5, 22.0, 24.3, 6.6339],\n",
       "       ['Roach', 160.0, 20.5, 22.5, 25.3, 7.0334],\n",
       "       ['Roach', 140.0, 21.0, 22.5, 25.0, 6.55],\n",
       "       ['Roach', 160.0, 21.1, 22.5, 25.0, 6.4],\n",
       "       ['Roach', 169.0, 22.0, 24.0, 27.2, 7.5344],\n",
       "       ['Roach', 161.0, 22.0, 23.4, 26.7, 6.9153],\n",
       "       ['Roach', 200.0, 22.1, 23.5, 26.8, 7.3968],\n",
       "       ['Roach', 180.0, 23.6, 25.2, 27.9, 7.0866],\n",
       "       ['Roach', 290.0, 24.0, 26.0, 29.2, 8.8768],\n",
       "       ['Roach', 272.0, 25.0, 27.0, 30.6, 8.568],\n",
       "       ['Roach', 390.0, 29.5, 31.7, 35.0, 9.485],\n",
       "       ['Whitefish', 270.0, 23.6, 26.0, 28.7, 8.3804],\n",
       "       ['Whitefish', 270.0, 24.1, 26.5, 29.3, 8.1454],\n",
       "       ['Whitefish', 306.0, 25.6, 28.0, 30.8, 8.777999999999999],\n",
       "       ['Whitefish', 540.0, 28.5, 31.0, 34.0, 10.744000000000002],\n",
       "       ['Whitefish', 800.0, 33.7, 36.4, 39.6, 11.7612],\n",
       "       ['Whitefish', 1000.0, 37.3, 40.0, 43.5, 12.354000000000001],\n",
       "       ['Parkki', 55.0, 13.5, 14.7, 16.5, 6.8475],\n",
       "       ['Parkki', 60.0, 14.3, 15.5, 17.4, 6.5772],\n",
       "       ['Parkki', 90.0, 16.3, 17.7, 19.8, 7.4052],\n",
       "       ['Parkki', 120.0, 17.5, 19.0, 21.3, 8.3922],\n",
       "       ['Parkki', 150.0, 18.4, 20.0, 22.4, 8.8928],\n",
       "       ['Parkki', 140.0, 19.0, 20.7, 23.2, 8.5376],\n",
       "       ['Parkki', 170.0, 19.0, 20.7, 23.2, 9.396],\n",
       "       ['Parkki', 145.0, 19.8, 21.5, 24.1, 9.7364],\n",
       "       ['Parkki', 200.0, 21.2, 23.0, 25.8, 10.3458],\n",
       "       ['Parkki', 273.0, 23.0, 25.0, 28.0, 11.088],\n",
       "       ['Parkki', 300.0, 24.0, 26.0, 29.0, 11.368],\n",
       "       ['Perch', 5.9, 7.5, 8.4, 8.8, 2.112],\n",
       "       ['Perch', 32.0, 12.5, 13.7, 14.7, 3.528],\n",
       "       ['Perch', 40.0, 13.8, 15.0, 16.0, 3.824],\n",
       "       ['Perch', 51.5, 15.0, 16.2, 17.2, 4.5924],\n",
       "       ['Perch', 70.0, 15.7, 17.4, 18.5, 4.588],\n",
       "       ['Perch', 100.0, 16.2, 18.0, 19.2, 5.2224],\n",
       "       ['Perch', 78.0, 16.8, 18.7, 19.4, 5.1992],\n",
       "       ['Perch', 80.0, 17.2, 19.0, 20.2, 5.6358],\n",
       "       ['Perch', 85.0, 17.8, 19.6, 20.8, 5.1376],\n",
       "       ['Perch', 85.0, 18.2, 20.0, 21.0, 5.082],\n",
       "       ['Perch', 110.0, 19.0, 21.0, 22.5, 5.6925],\n",
       "       ['Perch', 115.0, 19.0, 21.0, 22.5, 5.9175],\n",
       "       ['Perch', 125.0, 19.0, 21.0, 22.5, 5.6925],\n",
       "       ['Perch', 130.0, 19.3, 21.3, 22.8, 6.3839999999999995],\n",
       "       ['Perch', 120.0, 20.0, 22.0, 23.5, 6.11],\n",
       "       ['Perch', 120.0, 20.0, 22.0, 23.5, 5.64],\n",
       "       ['Perch', 130.0, 20.0, 22.0, 23.5, 6.11],\n",
       "       ['Perch', 135.0, 20.0, 22.0, 23.5, 5.875],\n",
       "       ['Perch', 110.0, 20.0, 22.0, 23.5, 5.5225],\n",
       "       ['Perch', 130.0, 20.5, 22.5, 24.0, 5.856],\n",
       "       ['Perch', 150.0, 20.5, 22.5, 24.0, 6.792000000000001],\n",
       "       ['Perch', 145.0, 20.7, 22.7, 24.2, 5.9532],\n",
       "       ['Perch', 150.0, 21.0, 23.0, 24.5, 5.2185],\n",
       "       ['Perch', 170.0, 21.5, 23.5, 25.0, 6.275],\n",
       "       ['Perch', 225.0, 22.0, 24.0, 25.5, 7.292999999999999],\n",
       "       ['Perch', 145.0, 22.0, 24.0, 25.5, 6.375],\n",
       "       ['Perch', 188.0, 22.6, 24.6, 26.2, 6.7334],\n",
       "       ['Perch', 180.0, 23.0, 25.0, 26.5, 6.4395],\n",
       "       ['Perch', 197.0, 23.5, 25.6, 27.0, 6.561],\n",
       "       ['Perch', 218.0, 25.0, 26.5, 28.0, 7.167999999999999],\n",
       "       ['Perch', 300.0, 25.2, 27.3, 28.7, 8.323],\n",
       "       ['Perch', 260.0, 25.4, 27.5, 28.9, 7.1672],\n",
       "       ['Perch', 265.0, 25.4, 27.5, 28.9, 7.0516],\n",
       "       ['Perch', 250.0, 25.4, 27.5, 28.9, 7.2828],\n",
       "       ['Perch', 250.0, 25.9, 28.0, 29.4, 7.8204],\n",
       "       ['Perch', 300.0, 26.9, 28.7, 30.1, 7.5852],\n",
       "       ['Perch', 320.0, 27.8, 30.0, 31.6, 7.6156],\n",
       "       ['Perch', 514.0, 30.5, 32.8, 34.0, 10.03],\n",
       "       ['Perch', 556.0, 32.0, 34.5, 36.5, 10.2565],\n",
       "       ['Perch', 840.0, 32.5, 35.0, 37.3, 11.4884],\n",
       "       ['Perch', 685.0, 34.0, 36.5, 39.0, 10.880999999999998],\n",
       "       ['Perch', 700.0, 34.0, 36.0, 38.3, 10.6091],\n",
       "       ['Perch', 700.0, 34.5, 37.0, 39.4, 10.835],\n",
       "       ['Perch', 690.0, 34.6, 37.0, 39.3, 10.5717],\n",
       "       ['Perch', 900.0, 36.5, 39.0, 41.4, 11.1366],\n",
       "       ['Perch', 650.0, 36.5, 39.0, 41.4, 11.1366],\n",
       "       ['Perch', 820.0, 36.6, 39.0, 41.3, 12.4313],\n",
       "       ['Perch', 850.0, 36.9, 40.0, 42.3, 11.9286],\n",
       "       ['Perch', 900.0, 37.0, 40.0, 42.5, 11.73],\n",
       "       ['Perch', 1015.0, 37.0, 40.0, 42.4, 12.3808],\n",
       "       ['Perch', 820.0, 37.1, 40.0, 42.5, 11.135],\n",
       "       ['Perch', 1100.0, 39.0, 42.0, 44.6, 12.8002],\n",
       "       ['Perch', 1000.0, 39.8, 43.0, 45.2, 11.9328],\n",
       "       ['Perch', 1100.0, 40.1, 43.0, 45.5, 12.5125],\n",
       "       ['Perch', 1000.0, 40.2, 43.5, 46.0, 12.604000000000001],\n",
       "       ['Perch', 1000.0, 41.1, 44.0, 46.6, 12.4888],\n",
       "       ['Pike', 200.0, 30.0, 32.3, 34.8, 5.568],\n",
       "       ['Pike', 300.0, 31.7, 34.0, 37.8, 5.7078],\n",
       "       ['Pike', 300.0, 32.7, 35.0, 38.8, 5.9364],\n",
       "       ['Pike', 300.0, 34.8, 37.3, 39.8, 6.2884],\n",
       "       ['Pike', 430.0, 35.5, 38.0, 40.5, 7.29],\n",
       "       ['Pike', 345.0, 36.0, 38.5, 41.0, 6.396],\n",
       "       ['Pike', 456.0, 40.0, 42.5, 45.5, 7.28],\n",
       "       ['Pike', 510.0, 40.0, 42.5, 45.5, 6.825],\n",
       "       ['Pike', 540.0, 40.1, 43.0, 45.8, 7.7860000000000005],\n",
       "       ['Pike', 500.0, 42.0, 45.0, 48.0, 6.96],\n",
       "       ['Pike', 567.0, 43.2, 46.0, 48.7, 7.792000000000001],\n",
       "       ['Pike', 770.0, 44.8, 48.0, 51.2, 7.68],\n",
       "       ['Pike', 950.0, 48.3, 51.7, 55.1, 8.9262],\n",
       "       ['Pike', 1250.0, 52.0, 56.0, 59.7, 10.6863],\n",
       "       ['Pike', 1600.0, 56.0, 60.0, 64.0, 9.6],\n",
       "       ['Pike', 1550.0, 56.0, 60.0, 64.0, 9.6],\n",
       "       ['Pike', 1650.0, 59.0, 63.4, 68.0, 10.812000000000001],\n",
       "       ['Smelt', 6.7, 9.3, 9.8, 10.8, 1.7388],\n",
       "       ['Smelt', 7.5, 10.0, 10.5, 11.6, 1.972],\n",
       "       ['Smelt', 7.0, 10.1, 10.6, 11.6, 1.7284],\n",
       "       ['Smelt', 9.7, 10.4, 11.0, 12.0, 2.1959999999999997],\n",
       "       ['Smelt', 9.8, 10.7, 11.2, 12.4, 2.0832],\n",
       "       ['Smelt', 8.7, 10.8, 11.3, 12.6, 1.9782],\n",
       "       ['Smelt', 10.0, 11.3, 11.8, 13.1, 2.2139],\n",
       "       ['Smelt', 9.9, 11.3, 11.8, 13.1, 2.2139],\n",
       "       ['Smelt', 9.8, 11.4, 12.0, 13.2, 2.2044],\n",
       "       ['Smelt', 12.2, 11.5, 12.2, 13.4, 2.0904],\n",
       "       ['Smelt', 13.4, 11.7, 12.4, 13.5, 2.43],\n",
       "       ['Smelt', 12.2, 12.1, 13.0, 13.8, 2.2769999999999997],\n",
       "       ['Smelt', 19.7, 13.2, 14.3, 15.2, 2.8728],\n",
       "       ['Smelt', 19.9, 13.8, 15.0, 16.2, 2.9322]], dtype=object)"
      ]
     },
     "execution_count": 17,
     "metadata": {},
     "output_type": "execute_result"
    }
   ],
   "source": [
    "x"
   ]
  },
  {
   "cell_type": "code",
   "execution_count": 18,
   "metadata": {
    "scrolled": true
   },
   "outputs": [
    {
     "data": {
      "text/plain": [
       "array([4.02  , 4.3056, 4.6961, 4.4555, 5.134 , 4.9274, 5.2785, 4.69  ,\n",
       "       4.8438, 4.9594, 5.1042, 4.8146, 4.368 , 5.0728, 5.1708, 5.58  ,\n",
       "       5.2854, 5.1975, 5.1338, 5.7276, 5.5695, 5.3704, 5.2801, 6.1306,\n",
       "       5.589 , 6.0532, 6.09  , 5.8515, 6.1984, 6.603 , 6.3063, 6.292 ,\n",
       "       6.7497, 6.7473, 6.3705, 2.268 , 2.8217, 2.9044, 3.1746, 3.5742,\n",
       "       3.3516, 3.3957, 3.2943, 3.7544, 3.5478, 3.8203, 3.325 , 3.8   ,\n",
       "       3.8352, 3.6312, 4.1272, 3.906 , 4.4968, 4.7736, 5.355 , 4.2476,\n",
       "       4.2485, 4.6816, 6.562 , 6.5736, 6.525 , 2.3265, 2.3142, 2.673 ,\n",
       "       2.9181, 3.2928, 3.2944, 3.4104, 3.1571, 3.6636, 4.144 , 4.234 ,\n",
       "       1.408 , 1.9992, 2.432 , 2.6316, 2.9415, 3.3216, 3.1234, 3.0502,\n",
       "       3.0368, 2.772 , 3.555 , 3.3075, 3.6675, 3.534 , 3.4075, 3.525 ,\n",
       "       3.525 , 3.525 , 3.995 , 3.624 , 3.624 , 3.63  , 3.626 , 3.725 ,\n",
       "       3.723 , 3.825 , 4.1658, 3.6835, 4.239 , 4.144 , 5.1373, 4.335 ,\n",
       "       4.335 , 4.5662, 4.2042, 4.6354, 4.7716, 6.018 , 6.3875, 7.7957,\n",
       "       6.864 , 6.7408, 6.2646, 6.3666, 7.4934, 6.003 , 7.3514, 7.1064,\n",
       "       7.225 , 7.4624, 6.63  , 6.8684, 7.2772, 7.4165, 8.142 , 7.5958,\n",
       "       3.3756, 4.158 , 4.3844, 4.0198, 4.5765, 3.977 , 4.3225, 4.459 ,\n",
       "       5.1296, 4.896 , 4.87  , 5.376 , 6.1712, 6.9849, 6.144 , 6.144 ,\n",
       "       7.48  , 1.0476, 1.16  , 1.1484, 1.38  , 1.2772, 1.2852, 1.2838,\n",
       "       1.1659, 1.1484, 1.3936, 1.269 , 1.2558, 2.0672, 1.8792])"
      ]
     },
     "execution_count": 18,
     "metadata": {},
     "output_type": "execute_result"
    }
   ],
   "source": [
    "y"
   ]
  },
  {
   "cell_type": "code",
   "execution_count": 33,
   "metadata": {},
   "outputs": [
    {
     "name": "stderr",
     "output_type": "stream",
     "text": [
      "C:\\Users\\Harsha reddy\\AppData\\Local\\Continuum\\anaconda3\\lib\\site-packages\\sklearn\\preprocessing\\_encoders.py:415: FutureWarning: The handling of integer data will change in version 0.22. Currently, the categories are determined based on the range [0, max(values)], while in the future they will be determined based on the unique values.\n",
      "If you want the future behaviour and silence this warning, you can specify \"categories='auto'\".\n",
      "In case you used a LabelEncoder before this OneHotEncoder to convert the categories to integers, then you can now use the OneHotEncoder directly.\n",
      "  warnings.warn(msg, FutureWarning)\n"
     ]
    }
   ],
   "source": [
    "from sklearn.preprocessing import OneHotEncoder\n",
    "from sklearn.compose import ColumnTransformer\n",
    "ct = ColumnTransformer([(\"oh\", OneHotEncoder(),[0])],remainder = \"passthrough\") # conerts data to binary format\n",
    "x = ct.fit_transform(x)                   \n",
    "                   "
   ]
  },
  {
   "cell_type": "code",
   "execution_count": 34,
   "metadata": {
    "scrolled": true
   },
   "outputs": [
    {
     "data": {
      "text/plain": [
       "array([[0.0, 1.0, 0.0, ..., 25.4, 30.0, 11.52],\n",
       "       [0.0, 1.0, 0.0, ..., 26.3, 31.2, 12.48],\n",
       "       [0.0, 1.0, 0.0, ..., 26.5, 31.1, 12.3778],\n",
       "       ...,\n",
       "       [1.0, 0.0, 0.0, ..., 13.0, 13.8, 2.2769999999999997],\n",
       "       [1.0, 0.0, 0.0, ..., 14.3, 15.2, 2.8728],\n",
       "       [1.0, 0.0, 0.0, ..., 15.0, 16.2, 2.9322]], dtype=object)"
      ]
     },
     "execution_count": 34,
     "metadata": {},
     "output_type": "execute_result"
    }
   ],
   "source": [
    "x"
   ]
  },
  {
   "cell_type": "code",
   "execution_count": 38,
   "metadata": {},
   "outputs": [
    {
     "data": {
      "text/html": [
       "<div>\n",
       "<style scoped>\n",
       "    .dataframe tbody tr th:only-of-type {\n",
       "        vertical-align: middle;\n",
       "    }\n",
       "\n",
       "    .dataframe tbody tr th {\n",
       "        vertical-align: top;\n",
       "    }\n",
       "\n",
       "    .dataframe thead th {\n",
       "        text-align: right;\n",
       "    }\n",
       "</style>\n",
       "<table border=\"1\" class=\"dataframe\">\n",
       "  <thead>\n",
       "    <tr style=\"text-align: right;\">\n",
       "      <th></th>\n",
       "      <th>Species</th>\n",
       "      <th>Weight</th>\n",
       "      <th>Length1</th>\n",
       "      <th>Length2</th>\n",
       "      <th>Length3</th>\n",
       "      <th>Height</th>\n",
       "      <th>Width</th>\n",
       "    </tr>\n",
       "  </thead>\n",
       "  <tbody>\n",
       "    <tr>\n",
       "      <th>0</th>\n",
       "      <td>Bream</td>\n",
       "      <td>242.0</td>\n",
       "      <td>23.2</td>\n",
       "      <td>25.4</td>\n",
       "      <td>30.0</td>\n",
       "      <td>11.52</td>\n",
       "      <td>4.0200</td>\n",
       "    </tr>\n",
       "    <tr>\n",
       "      <th>1</th>\n",
       "      <td>Bream</td>\n",
       "      <td>290.0</td>\n",
       "      <td>24.0</td>\n",
       "      <td>26.3</td>\n",
       "      <td>31.2</td>\n",
       "      <td>12.48</td>\n",
       "      <td>4.3056</td>\n",
       "    </tr>\n",
       "  </tbody>\n",
       "</table>\n",
       "</div>"
      ],
      "text/plain": [
       "  Species  Weight  Length1  Length2  Length3  Height   Width\n",
       "0   Bream   242.0     23.2     25.4     30.0   11.52  4.0200\n",
       "1   Bream   290.0     24.0     26.3     31.2   12.48  4.3056"
      ]
     },
     "execution_count": 38,
     "metadata": {},
     "output_type": "execute_result"
    }
   ],
   "source": [
    "df.head(2)"
   ]
  },
  {
   "cell_type": "code",
   "execution_count": 41,
   "metadata": {},
   "outputs": [
    {
     "data": {
      "image/png": "[encoded data removed]",
      "text/plain": [
       "<Figure size 432x288 with 1 Axes>"
      ]
     },
     "metadata": {
      "needs_background": "light"
     },
     "output_type": "display_data"
    }
   ],
   "source": [
    "import matplotlib.pyplot as plt\n",
    "plt.scatter(df['Species'],df['Weight'])\n",
    "plt.show()"
   ]
  },
  {
   "cell_type": "code",
   "execution_count": 35,
   "metadata": {},
   "outputs": [],
   "source": [
    "from sklearn.model_selection import train_test_split\n",
    "x_train,x_test,y_train,y_test=train_test_split(x,y,test_size=0.2,random_state=0)"
   ]
  },
  {
   "cell_type": "code",
   "execution_count": 29,
   "metadata": {},
   "outputs": [
    {
     "data": {
      "text/plain": [
       "array([[0.0, 0.0, 0.0, ..., 60.0, 64.0, 9.6],\n",
       "       [0.0, 0.0, 0.0, ..., 35.0, 38.8, 5.9364],\n",
       "       [1.0, 0.0, 0.0, ..., 33.0, 38.3, 14.8604],\n",
       "       ...,\n",
       "       [0.0, 1.0, 0.0, ..., 20.7, 23.2, 9.396],\n",
       "       [0.0, 0.0, 1.0, ..., 39.0, 41.4, 11.1366],\n",
       "       [0.0, 0.0, 0.0, ..., 22.5, 25.0, 6.4]], dtype=object)"
      ]
     },
     "execution_count": 29,
     "metadata": {},
     "output_type": "execute_result"
    }
   ],
   "source": [
    "x_train"
   ]
  },
  {
   "cell_type": "code",
   "execution_count": 30,
   "metadata": {},
   "outputs": [
    {
     "data": {
      "text/plain": [
       "array([6.144 , 4.3844, 5.2854, 3.723 , 4.6354, 5.2801, 6.7408, 3.525 ,\n",
       "       6.018 , 2.432 , 3.825 , 5.8515, 2.0672, 4.239 , 3.906 , 4.144 ,\n",
       "       5.1338, 4.7716, 6.3063, 1.9992, 1.2558, 4.6961, 3.0368, 3.7544,\n",
       "       4.234 , 5.1042, 1.2852, 4.5765, 1.1484, 1.16  , 3.2944, 3.63  ,\n",
       "       3.626 , 1.0476, 6.9849, 7.4165, 6.63  , 4.1272, 4.1658, 3.624 ,\n",
       "       2.9181, 7.3514, 4.2042, 3.6636, 3.6312, 3.8352, 5.0728, 4.87  ,\n",
       "       6.1306, 7.7957, 5.5695, 5.58  , 3.1234, 4.4968, 2.9415, 4.4555,\n",
       "       1.8792, 4.459 , 5.2785, 3.1571, 2.6316, 3.6675, 6.864 , 4.368 ,\n",
       "       7.4624, 5.1708, 6.8684, 3.624 , 5.1296, 3.325 , 4.8146, 5.1373,\n",
       "       2.268 , 4.6816, 3.3957, 1.269 , 3.2928, 4.3056, 4.158 , 1.1484,\n",
       "       3.2943, 4.5662, 5.134 , 4.896 , 5.1975, 7.4934, 4.335 , 3.1746,\n",
       "       4.9274, 4.7736, 1.1659, 7.2772, 4.02  , 6.3705, 6.1984, 4.2476,\n",
       "       6.2646, 6.292 , 3.977 , 7.5958, 5.376 , 6.7497, 6.603 , 3.6835,\n",
       "       3.555 , 3.0502, 6.3666, 1.3936, 1.408 , 3.3216, 6.0532, 2.772 ,\n",
       "       1.2772, 1.2838, 3.5742, 6.562 , 6.1712, 3.525 , 4.144 , 3.525 ,\n",
       "       2.8217, 5.3704, 4.9594, 4.335 , 3.4104, 6.003 , 3.8   ])"
      ]
     },
     "execution_count": 30,
     "metadata": {},
     "output_type": "execute_result"
    }
   ],
   "source": [
    "y_train"
   ]
  },
  {
   "cell_type": "code",
   "execution_count": 42,
   "metadata": {},
   "outputs": [
    {
     "data": {
      "text/plain": [
       "LinearRegression(copy_X=True, fit_intercept=True, n_jobs=None, normalize=False)"
      ]
     },
     "execution_count": 42,
     "metadata": {},
     "output_type": "execute_result"
    }
   ],
   "source": [
    "from sklearn.linear_model import LinearRegression\n",
    "lr=LinearRegression()\n",
    "lr.fit(x_train,y_train)"
   ]
  },
  {
   "cell_type": "code",
   "execution_count": 43,
   "metadata": {},
   "outputs": [],
   "source": [
    "ypred=lr.predict(x_test)"
   ]
  },
  {
   "cell_type": "code",
   "execution_count": 44,
   "metadata": {},
   "outputs": [
    {
     "data": {
      "text/plain": [
       "array([4.38279449, 3.38339191, 3.88402001, 3.76583349, 5.96668042,\n",
       "       6.89927111, 6.58442579, 4.02007325, 6.93611506, 3.59590466,\n",
       "       3.46223608, 4.79632112, 7.10072125, 7.39434824, 2.00004199,\n",
       "       3.04268687, 3.55898264, 6.94110772, 3.76244959, 5.97203357,\n",
       "       2.00994396, 5.25582111, 3.72337595, 7.62736022, 2.42744522,\n",
       "       4.82327473, 5.90333898, 4.66318611, 6.90514304, 1.24892365,\n",
       "       5.24826435, 3.54063573])"
      ]
     },
     "execution_count": 44,
     "metadata": {},
     "output_type": "execute_result"
    }
   ],
   "source": [
    "ypred"
   ]
  },
  {
   "cell_type": "code",
   "execution_count": 47,
   "metadata": {},
   "outputs": [
    {
     "data": {
      "text/plain": [
       "array([4.69  , 3.3516, 3.725 , 3.8203, 6.3875, 7.225 , 6.5736, 4.0198,\n",
       "       6.7473, 3.3075, 3.3756, 4.3225, 6.525 , 8.142 , 2.3142, 2.9044,\n",
       "       3.5478, 6.144 , 3.534 , 6.09  , 2.3265, 5.355 , 3.4075, 7.48  ,\n",
       "       2.673 , 4.8438, 5.589 , 4.2485, 7.1064, 1.38  , 5.7276, 3.995 ])"
      ]
     },
     "execution_count": 47,
     "metadata": {},
     "output_type": "execute_result"
    }
   ],
   "source": [
    "y_test"
   ]
  },
  {
   "cell_type": "code",
   "execution_count": 49,
   "metadata": {},
   "outputs": [
    {
     "data": {
      "text/html": [
       "<div>\n",
       "<style scoped>\n",
       "    .dataframe tbody tr th:only-of-type {\n",
       "        vertical-align: middle;\n",
       "    }\n",
       "\n",
       "    .dataframe tbody tr th {\n",
       "        vertical-align: top;\n",
       "    }\n",
       "\n",
       "    .dataframe thead th {\n",
       "        text-align: right;\n",
       "    }\n",
       "</style>\n",
       "<table border=\"1\" class=\"dataframe\">\n",
       "  <thead>\n",
       "    <tr style=\"text-align: right;\">\n",
       "      <th></th>\n",
       "      <th>Species</th>\n",
       "      <th>Weight</th>\n",
       "      <th>Length1</th>\n",
       "      <th>Length2</th>\n",
       "      <th>Length3</th>\n",
       "      <th>Height</th>\n",
       "      <th>Width</th>\n",
       "    </tr>\n",
       "  </thead>\n",
       "  <tbody>\n",
       "    <tr>\n",
       "      <th>0</th>\n",
       "      <td>Bream</td>\n",
       "      <td>242.0</td>\n",
       "      <td>23.2</td>\n",
       "      <td>25.4</td>\n",
       "      <td>30.0</td>\n",
       "      <td>11.52</td>\n",
       "      <td>4.02</td>\n",
       "    </tr>\n",
       "  </tbody>\n",
       "</table>\n",
       "</div>"
      ],
      "text/plain": [
       "  Species  Weight  Length1  Length2  Length3  Height  Width\n",
       "0   Bream   242.0     23.2     25.4     30.0   11.52   4.02"
      ]
     },
     "execution_count": 49,
     "metadata": {},
     "output_type": "execute_result"
    }
   ],
   "source": [
    "df.head(1)"
   ]
  },
  {
   "cell_type": "code",
   "execution_count": 50,
   "metadata": {
    "scrolled": true
   },
   "outputs": [
    {
     "data": {
      "image/png": "[encoded data removed]",
      "text/plain": [
       "<Figure size 432x288 with 1 Axes>"
      ]
     },
     "metadata": {
      "needs_background": "light"
     },
     "output_type": "display_data"
    }
   ],
   "source": [
    "import matplotlib.pyplot as plt\n",
    "plt.scatter(df['Species'],df['Length1'])\n",
    "#plt.plot(x_train,lr.predict(x_train))\n",
    "plt.show()"
   ]
  },
  {
   "cell_type": "code",
   "execution_count": 57,
   "metadata": {},
   "outputs": [
    {
     "data": {
      "text/html": [
       "<div>\n",
       "<style scoped>\n",
       "    .dataframe tbody tr th:only-of-type {\n",
       "        vertical-align: middle;\n",
       "    }\n",
       "\n",
       "    .dataframe tbody tr th {\n",
       "        vertical-align: top;\n",
       "    }\n",
       "\n",
       "    .dataframe thead th {\n",
       "        text-align: right;\n",
       "    }\n",
       "</style>\n",
       "<table border=\"1\" class=\"dataframe\">\n",
       "  <thead>\n",
       "    <tr style=\"text-align: right;\">\n",
       "      <th></th>\n",
       "      <th>Species</th>\n",
       "      <th>Weight</th>\n",
       "      <th>Length1</th>\n",
       "      <th>Length2</th>\n",
       "      <th>Length3</th>\n",
       "      <th>Height</th>\n",
       "      <th>Width</th>\n",
       "    </tr>\n",
       "  </thead>\n",
       "  <tbody>\n",
       "    <tr>\n",
       "      <th>0</th>\n",
       "      <td>Bream</td>\n",
       "      <td>242.0</td>\n",
       "      <td>23.2</td>\n",
       "      <td>25.4</td>\n",
       "      <td>30.0</td>\n",
       "      <td>11.5200</td>\n",
       "      <td>4.0200</td>\n",
       "    </tr>\n",
       "    <tr>\n",
       "      <th>1</th>\n",
       "      <td>Bream</td>\n",
       "      <td>290.0</td>\n",
       "      <td>24.0</td>\n",
       "      <td>26.3</td>\n",
       "      <td>31.2</td>\n",
       "      <td>12.4800</td>\n",
       "      <td>4.3056</td>\n",
       "    </tr>\n",
       "    <tr>\n",
       "      <th>2</th>\n",
       "      <td>Bream</td>\n",
       "      <td>340.0</td>\n",
       "      <td>23.9</td>\n",
       "      <td>26.5</td>\n",
       "      <td>31.1</td>\n",
       "      <td>12.3778</td>\n",
       "      <td>4.6961</td>\n",
       "    </tr>\n",
       "  </tbody>\n",
       "</table>\n",
       "</div>"
      ],
      "text/plain": [
       "  Species  Weight  Length1  Length2  Length3   Height   Width\n",
       "0   Bream   242.0     23.2     25.4     30.0  11.5200  4.0200\n",
       "1   Bream   290.0     24.0     26.3     31.2  12.4800  4.3056\n",
       "2   Bream   340.0     23.9     26.5     31.1  12.3778  4.6961"
      ]
     },
     "execution_count": 57,
     "metadata": {},
     "output_type": "execute_result"
    }
   ],
   "source": [
    "df.head(3)"
   ]
  },
  {
   "cell_type": "code",
   "execution_count": 59,
   "metadata": {},
   "outputs": [],
   "source": [
    "from sklearn.metrics import r2_score\n",
    "accuracy=r2_score(ypred,y_test)"
   ]
  },
  {
   "cell_type": "code",
   "execution_count": 60,
   "metadata": {},
   "outputs": [
    {
     "data": {
      "text/plain": [
       "0.9631235635782046"
      ]
     },
     "execution_count": 60,
     "metadata": {},
     "output_type": "execute_result"
    }
   ],
   "source": [
    "accuracy"
   ]
  },
  {
   "cell_type": "code",
   "execution_count": null,
   "metadata": {},
   "outputs": [],
   "source": []
  }
 ],
 "metadata": {
  "kernelspec": {
   "display_name": "Python 3",
   "language": "python",
   "name": "python3"
  },
  "language_info": {
   "codemirror_mode": {
    "name": "ipython",
    "version": 3
   },
   "file_extension": ".py",
   "mimetype": "text/x-python",
   "name": "python",
   "nbconvert_exporter": "python",
   "pygments_lexer": "ipython3",
   "version": "3.7.3"
  }
 },
 "nbformat": 4,
 "nbformat_minor": 2
}
